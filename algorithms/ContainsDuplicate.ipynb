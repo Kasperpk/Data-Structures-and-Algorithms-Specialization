{
 "cells": [
  {
   "cell_type": "markdown",
   "id": "8f177a3a",
   "metadata": {},
   "source": [
    "## Problem: Contains duplicate\n",
    "\n",
    "Given an integer array nums, return true if any value appears at least twice in the array, and return false if every element is distinct.\n"
   ]
  },
  {
   "attachments": {
    "image.png": {
     "image/png": "[encoded data removed]"
    }
   },
   "cell_type": "markdown",
   "id": "930d7493",
   "metadata": {},
   "source": [
    "![image.png](attachment:image.png)"
   ]
  },
  {
   "cell_type": "markdown",
   "id": "a1156e24",
   "metadata": {},
   "source": [
    "As we shall see here, there are many ways to solve this problem. The three alternatives that follow all have the time complexity of O(n) in the worst case, we have to go through the entire list. Sorting the list may help, but that also requires a great deal of operations. The most elegant solution is probably the one liner shown at the end."
   ]
  },
  {
   "cell_type": "code",
   "execution_count": 15,
   "id": "abd563fc",
   "metadata": {},
   "outputs": [],
   "source": [
    "def naive_solution(nums):\n",
    "\n",
    "    num_dict = {}\n",
    "\n",
    "    for num in nums:\n",
    "        if num not in num_dict:\n",
    "            num_dict[num] = 1\n",
    "        else:\n",
    "            return True\n",
    "        \n",
    "    return False"
   ]
  },
  {
   "cell_type": "code",
   "execution_count": 16,
   "id": "8c6585ce",
   "metadata": {},
   "outputs": [
    {
     "data": {
      "text/plain": [
       "True"
      ]
     },
     "execution_count": 16,
     "metadata": {},
     "output_type": "execute_result"
    }
   ],
   "source": [
    "naive_solution([1,2,3,1])"
   ]
  },
  {
   "cell_type": "code",
   "execution_count": 13,
   "id": "eaab732b",
   "metadata": {},
   "outputs": [],
   "source": [
    "def using_set(nums):\n",
    "    hset = set()\n",
    "\n",
    "    for num in nums:\n",
    "        if num in hset:\n",
    "            return True\n",
    "        else:\n",
    "            hset.add(num)\n",
    "\n",
    "    return False"
   ]
  },
  {
   "cell_type": "code",
   "execution_count": 14,
   "id": "c9073255",
   "metadata": {},
   "outputs": [
    {
     "data": {
      "text/plain": [
       "True"
      ]
     },
     "execution_count": 14,
     "metadata": {},
     "output_type": "execute_result"
    }
   ],
   "source": [
    "using_set([1,2,3,1])"
   ]
  },
  {
   "cell_type": "code",
   "execution_count": 17,
   "id": "254517fa",
   "metadata": {},
   "outputs": [],
   "source": [
    "def contains_duplicate(nums): \n",
    "    return len(nums) != len(set(nums))"
   ]
  },
  {
   "cell_type": "code",
   "execution_count": 18,
   "id": "12c697e8",
   "metadata": {},
   "outputs": [
    {
     "data": {
      "text/plain": [
       "True"
      ]
     },
     "execution_count": 18,
     "metadata": {},
     "output_type": "execute_result"
    }
   ],
   "source": [
    "contains_duplicate([1,2,3,1])"
   ]
  }
 ],
 "metadata": {
  "kernelspec": {
   "display_name": "Python 3",
   "language": "python",
   "name": "python3"
  },
  "language_info": {
   "codemirror_mode": {
    "name": "ipython",
    "version": 3
   },
   "file_extension": ".py",
   "mimetype": "text/x-python",
   "name": "python",
   "nbconvert_exporter": "python",
   "pygments_lexer": "ipython3",
   "version": "3.11.4"
  }
 },
 "nbformat": 4,
 "nbformat_minor": 5
}
