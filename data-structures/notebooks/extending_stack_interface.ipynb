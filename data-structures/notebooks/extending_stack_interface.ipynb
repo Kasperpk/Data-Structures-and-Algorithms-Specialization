{
 "cells": [
  {
   "cell_type": "code",
   "execution_count": 41,
   "id": "412c9836",
   "metadata": {},
   "outputs": [],
   "source": [
    "def extending_stack_interface(q, lines):\n",
    "\n",
    "    stack = []\n",
    "    max = []\n",
    "    current_max = 0\n",
    "    for line in lines:\n",
    "        if line.split(' ')[0] == 'push':\n",
    "            constant = int(line.split(' ')[1])\n",
    "            stack.append(constant)\n",
    "            if constant > current_max:\n",
    "                current_max = constant\n",
    "        elif line.split(' ')[0] == 'pop':\n",
    "            stack.pop()\n",
    "            if max:\n",
    "                max.pop()\n",
    "        elif line == 'max':\n",
    "            max.append(current_max)\n",
    "    print(*max, sep=\"\\n\")\n"
   ]
  },
  {
   "cell_type": "code",
   "execution_count": 42,
   "id": "0e7ca46c",
   "metadata": {},
   "outputs": [
    {
     "name": "stdout",
     "output_type": "stream",
     "text": [
      "2\n",
      "2\n"
     ]
    }
   ],
   "source": [
    "extending_stack_interface(5, ['push 2', 'push 1', 'pop', 'pop', 'max', 'max'])"
   ]
  },
  {
   "cell_type": "markdown",
   "id": "7ae32172",
   "metadata": {},
   "source": [
    "# Extending Stack Interface Problem Analysis\n",
    "\n",
    "This problem asks us to implement a stack that supports:\n",
    "1. **push x** - push element x onto stack\n",
    "2. **pop** - remove top element from stack  \n",
    "3. **max** - return the maximum element currently in the stack\n",
    "\n",
    "## Issues with Current Implementation:\n",
    "\n",
    "1. **Maximum tracking problem**: When we pop an element, we don't update `current_max` properly\n",
    "2. **Edge cases**: What if the stack becomes empty? What if we pop the current maximum?\n",
    "\n",
    "Let's trace through the example:\n",
    "- `push 2`: stack = [2], max should be 2\n",
    "- `push 1`: stack = [2, 1], max should still be 2  \n",
    "- `max`: should output 2 ✓\n",
    "- `pop`: stack = [2], max should still be 2\n",
    "- `max`: should output 2, but current code might not handle this correctly\n",
    "\n",
    "The challenge is: **How do we efficiently track the maximum when elements are removed?**"
   ]
  },
  {
   "cell_type": "code",
   "execution_count": 33,
   "id": "fdd66efb",
   "metadata": {},
   "outputs": [],
   "source": [
    "def extending_stack_interface_correct(q, operations):\n",
    "    \"\"\"\n",
    "    Correct implementation using auxiliary max stack\n",
    "    \n",
    "    Key insight: Use two stacks:\n",
    "    1. Main stack for elements\n",
    "    2. Max stack to track maximum at each level\n",
    "    \"\"\"\n",
    "    stack = []\n",
    "    max_stack = []  # Keeps track of max at each level\n",
    "    results = []\n",
    "    \n",
    "    for operation in operations:\n",
    "        parts = operation.split()\n",
    "        \n",
    "        if parts[0] == 'push':\n",
    "            value = int(parts[1])\n",
    "            stack.append(value)\n",
    "            \n",
    "            # Update max_stack: current max is either the new value \n",
    "            # or the previous max (whichever is larger)\n",
    "            if not max_stack:\n",
    "                max_stack.append(value)\n",
    "            else:\n",
    "                max_stack.append(max(value, max_stack[-1]))\n",
    "                \n",
    "        elif parts[0] == 'pop':\n",
    "            if stack:  # Check if stack is not empty\n",
    "                stack.pop()\n",
    "                max_stack.pop()  # Remove corresponding max\n",
    "                \n",
    "        elif operation == 'max':\n",
    "            if max_stack:  # Check if stack is not empty\n",
    "                results.append(max_stack[-1])\n",
    "    \n",
    "    # Print results\n",
    "    for result in results:\n",
    "        print(result)\n",
    "    \n",
    "    return results"
   ]
  },
  {
   "cell_type": "code",
   "execution_count": 43,
   "id": "c9f4e96c",
   "metadata": {},
   "outputs": [
    {
     "name": "stdout",
     "output_type": "stream",
     "text": [
      "=== TESTING CORRECTED IMPLEMENTATION ===\n",
      "Input: ['push 2', 'push 1', 'max', 'pop', 'max']\n",
      "Expected output: 2, 2\n",
      "Actual output:\n",
      "2\n",
      "2\n",
      "\n",
      "=== STEP BY STEP TRACE ===\n",
      "Step 1: push 2\n",
      "  Stack: [2]\n",
      "  Max stack: [2]\n",
      "\n",
      "Step 2: push 1\n",
      "  Stack: [2, 1]\n",
      "  Max stack: [2, 2]\n",
      "\n",
      "Step 3: max\n",
      "  Current max: 2\n",
      "\n",
      "Step 4: pop\n",
      "  Popped: 1\n",
      "  Stack: [2]\n",
      "  Max stack: [2]\n",
      "\n",
      "Step 5: max\n",
      "  Current max: 2\n",
      "\n"
     ]
    }
   ],
   "source": [
    "# Test the corrected implementation\n",
    "print(\"=== TESTING CORRECTED IMPLEMENTATION ===\")\n",
    "print(\"Input: ['push 2', 'push 1', 'max', 'pop', 'max']\")\n",
    "print(\"Expected output: 2, 2\")\n",
    "print(\"Actual output:\")\n",
    "extending_stack_interface_correct(5, ['push 2', 'push 1', 'max', 'pop', 'max'])\n",
    "print()\n",
    "\n",
    "# Let's trace through step by step\n",
    "print(\"=== STEP BY STEP TRACE ===\")\n",
    "operations = ['push 2', 'push 1', 'max', 'pop', 'max']\n",
    "stack = []\n",
    "max_stack = []\n",
    "\n",
    "for i, op in enumerate(operations):\n",
    "    print(f\"Step {i+1}: {op}\")\n",
    "    \n",
    "    if op.startswith('push'):\n",
    "        value = int(op.split()[1])\n",
    "        stack.append(value)\n",
    "        if not max_stack:\n",
    "            max_stack.append(value)\n",
    "        else:\n",
    "            max_stack.append(max(value, max_stack[-1]))\n",
    "        print(f\"  Stack: {stack}\")\n",
    "        print(f\"  Max stack: {max_stack}\")\n",
    "        \n",
    "    elif op == 'pop':\n",
    "        if stack:\n",
    "            popped = stack.pop()\n",
    "            max_stack.pop()\n",
    "            print(f\"  Popped: {popped}\")\n",
    "            print(f\"  Stack: {stack}\")\n",
    "            print(f\"  Max stack: {max_stack}\")\n",
    "            \n",
    "    elif op == 'max':\n",
    "        if max_stack:\n",
    "            print(f\"  Current max: {max_stack[-1]}\")\n",
    "    print()"
   ]
  }
 ],
 "metadata": {
  "kernelspec": {
   "display_name": "Python 3",
   "language": "python",
   "name": "python3"
  },
  "language_info": {
   "codemirror_mode": {
    "name": "ipython",
    "version": 3
   },
   "file_extension": ".py",
   "mimetype": "text/x-python",
   "name": "python",
   "nbconvert_exporter": "python",
   "pygments_lexer": "ipython3",
   "version": "3.11.4"
  }
 },
 "nbformat": 4,
 "nbformat_minor": 5
}
