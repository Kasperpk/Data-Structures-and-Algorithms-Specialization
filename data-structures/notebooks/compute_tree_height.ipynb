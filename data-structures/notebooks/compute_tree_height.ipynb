{
 "cells": [
  {
   "cell_type": "markdown",
   "id": "1d5d9e61",
   "metadata": {},
   "source": [
    "# Data Structures in Tree Height Problem\n",
    "\n",
    "## Primary Data Structure: **Tree**\n",
    "- A hierarchical data structure with nodes connected by edges\n",
    "- Has exactly one root node (no parent)\n",
    "- Each non-root node has exactly one parent\n",
    "- No cycles (it's a connected acyclic graph)\n",
    "\n",
    "## Tree Representation Methods:\n",
    "\n",
    "### 1. **Parent Array Representation** (Input format)\n",
    "```\n",
    "parents = [4, -1, 4, 1, 1]\n",
    "```\n",
    "- `parents[i]` = parent of node `i`\n",
    "- `parents[i] = -1` means node `i` is the root\n",
    "- Space efficient: O(n)\n",
    "- Easy to find parent, harder to find children\n",
    "\n",
    "### 2. **Adjacency List Representation** (What we build)\n",
    "```\n",
    "children = [[], [3, 4], [], [], [0, 2]]\n",
    "```\n",
    "- `children[i]` = list of all children of node `i`\n",
    "- Easy to traverse from parent to children\n",
    "- Good for DFS/BFS traversals"
   ]
  },
  {
   "cell_type": "markdown",
   "id": "8a531b0e",
   "metadata": {},
   "source": [
    "## Supporting Data Structures Used in Algorithms:\n",
    "\n",
    "### **Stack (Implicit in Recursion)**\n",
    "- Used in the recursive DFS approach\n",
    "- Function call stack manages the traversal\n",
    "- Each recursive call adds a frame to the stack\n",
    "- LIFO (Last In, First Out) behavior\n",
    "\n",
    "### **Array/List**\n",
    "- `children[]`: stores adjacency list\n",
    "- `heights[]`: for memoization (if used)\n",
    "- `parents[]`: input representation\n",
    "- Random access: O(1)\n",
    "- Dynamic resizing: O(1) amortized for appends\n",
    "\n",
    "### **Queue (Alternative approach)**\n",
    "- Could use BFS with queue for level-order traversal\n",
    "- FIFO (First In, First Out)\n",
    "- Useful for finding tree height level by level\n",
    "\n",
    "## Why These Data Structures?\n",
    "\n",
    "1. **Tree**: The problem domain - we need to find height\n",
    "2. **Array**: Efficient storage and access\n",
    "3. **Stack**: Natural for depth-first traversal\n",
    "4. **Adjacency List**: Efficient for tree traversal algorithms\n",
    "\n",
    "No custom classes needed - just basic arrays and the inherent tree structure!"
   ]
  },
  {
   "cell_type": "code",
   "execution_count": null,
   "id": "1c13bf21",
   "metadata": {},
   "outputs": [],
   "source": [
    "def tree_height(nodes, parents):\n",
    "    '''\n",
    "    Calculate the height of a tree given parent array representation\n",
    "    \n",
    "    Args:\n",
    "        n: number of nodes\n",
    "        parents: array where parents[i] is the parent of node i, -1 for root\n",
    "    \n",
    "    Returns:\n",
    "        Height of the tree (number of edges in longest path from root to leaf)\n",
    "    '''\n",
    "\n",
    "    children = [[] for _ in range(nodes)]\n",
    "\n",
    "    root = -1 \n",
    "\n",
    "    for i in range(nodes):\n",
    "        if parents[i] == -1:\n",
    "            root = i\n",
    "        else:\n",
    "            children[parents[i]].append(i)\n",
    "                           \n",
    "    def dfs(node):\n",
    "        if not children[node]:\n",
    "            return 0\n",
    "        max_child_height = 0\n",
    "        for child in children[node]:\n",
    "            max_child_height = max(max_child_height, dfs(child))\n",
    "\n",
    "        return max_child_height + 1 \n",
    "\n",
    "    return dfs(root)"
   ]
  },
  {
   "cell_type": "code",
   "execution_count": 20,
   "id": "34f6cc15",
   "metadata": {},
   "outputs": [
    {
     "data": {
      "text/plain": [
       "2"
      ]
     },
     "execution_count": 20,
     "metadata": {},
     "output_type": "execute_result"
    }
   ],
   "source": [
    "tree_height(5,[4,-1,4,1,1])"
   ]
  },
  {
   "cell_type": "code",
   "execution_count": 21,
   "id": "c7d83cd9",
   "metadata": {},
   "outputs": [
    {
     "name": "stdout",
     "output_type": "stream",
     "text": [
      "Testing tree_height_correct:\n",
      "Input: n=5, parents=[4, -1, 4, 1, 1]\n",
      "Output: 2\n",
      "\n"
     ]
    }
   ],
   "source": [
    "# Test the corrected implementation\n",
    "print(\"Testing tree_height_correct:\")\n",
    "print(\"Input: n=5, parents=[4, -1, 4, 1, 1]\")\n",
    "result = tree_height(5, [4, -1, 4, 1, 1])\n",
    "print(f\"Output: {result}\")\n",
    "print()\n",
    "\n",
    "# Let's trace through this example:\n",
    "# Node 0: parent is 4\n",
    "# Node 1: parent is -1 (root)\n",
    "# Node 2: parent is 4  \n",
    "# Node 3: parent is 1\n",
    "# Node 4: parent is 1\n",
    "#\n",
    "# Tree structure:\n",
    "#       1 (root)\n",
    "#      / \\\n",
    "#     3   4\n",
    "#        / \\\n",
    "#       0   2\n",
    "#\n",
    "# Height = 2 (longest path: 1->4->0 or 1->4->2)"
   ]
  },
  {
   "cell_type": "code",
   "execution_count": 16,
   "id": "531b1892",
   "metadata": {},
   "outputs": [
    {
     "name": "stdout",
     "output_type": "stream",
     "text": [
      "=== TREE STRUCTURE ANALYSIS ===\n",
      "Input: n = 5, parents = [4, -1, 4, 1, 1]\n",
      "\n",
      "1. PARENT ARRAY REPRESENTATION:\n",
      "   Node 0: parent is 4\n",
      "   Node 1: ROOT (no parent)\n",
      "   Node 2: parent is 4\n",
      "   Node 3: parent is 1\n",
      "   Node 4: parent is 1\n",
      "\n",
      "2. ADJACENCY LIST (CHILDREN) REPRESENTATION:\n",
      "   Node 0: LEAF (no children)\n",
      "   Node 1: children = [3, 4]\n",
      "   Node 2: LEAF (no children)\n",
      "   Node 3: LEAF (no children)\n",
      "   Node 4: children = [0, 2]\n",
      "\n",
      "3. VISUAL TREE STRUCTURE:\n",
      "   Root: 1\n",
      "├─ 1\n",
      "  ├─ 3\n",
      "  ├─ 4\n",
      "    ├─ 0\n",
      "    ├─ 2\n",
      "\n"
     ]
    }
   ],
   "source": [
    "# Let's visualize the data structures for the example: parents = [4, -1, 4, 1, 1]\n",
    "\n",
    "def visualize_tree_structures(n, parents):\n",
    "    print(\"=== TREE STRUCTURE ANALYSIS ===\")\n",
    "    print(f\"Input: n = {n}, parents = {parents}\")\n",
    "    print()\n",
    "    \n",
    "    # 1. Parent Array (given)\n",
    "    print(\"1. PARENT ARRAY REPRESENTATION:\")\n",
    "    for i in range(n):\n",
    "        if parents[i] == -1:\n",
    "            print(f\"   Node {i}: ROOT (no parent)\")\n",
    "        else:\n",
    "            print(f\"   Node {i}: parent is {parents[i]}\")\n",
    "    print()\n",
    "    \n",
    "    # 2. Build Adjacency List (children array)\n",
    "    children = [[] for _ in range(n)]\n",
    "    root = -1\n",
    "    \n",
    "    for i in range(n):\n",
    "        if parents[i] == -1:\n",
    "            root = i\n",
    "        else:\n",
    "            children[parents[i]].append(i)\n",
    "    \n",
    "    print(\"2. ADJACENCY LIST (CHILDREN) REPRESENTATION:\")\n",
    "    for i in range(n):\n",
    "        if children[i]:\n",
    "            print(f\"   Node {i}: children = {children[i]}\")\n",
    "        else:\n",
    "            print(f\"   Node {i}: LEAF (no children)\")\n",
    "    print()\n",
    "    \n",
    "    # 3. Visual Tree Structure\n",
    "    print(\"3. VISUAL TREE STRUCTURE:\")\n",
    "    print(f\"   Root: {root}\")\n",
    "    \n",
    "    def print_tree(node, level=0):\n",
    "        indent = \"  \" * level\n",
    "        print(f\"{indent}├─ {node}\")\n",
    "        for child in children[node]:\n",
    "            print_tree(child, level + 1)\n",
    "    \n",
    "    print_tree(root)\n",
    "    print()\n",
    "    \n",
    "    return children, root\n",
    "\n",
    "# Analyze the example\n",
    "children, root = visualize_tree_structures(5, [4, -1, 4, 1, 1])"
   ]
  },
  {
   "cell_type": "markdown",
   "id": "2c1a505a",
   "metadata": {},
   "source": []
  }
 ],
 "metadata": {
  "kernelspec": {
   "display_name": "Python 3",
   "language": "python",
   "name": "python3"
  },
  "language_info": {
   "codemirror_mode": {
    "name": "ipython",
    "version": 3
   },
   "file_extension": ".py",
   "mimetype": "text/x-python",
   "name": "python",
   "nbconvert_exporter": "python",
   "pygments_lexer": "ipython3",
   "version": "3.11.4"
  }
 },
 "nbformat": 4,
 "nbformat_minor": 5
}
