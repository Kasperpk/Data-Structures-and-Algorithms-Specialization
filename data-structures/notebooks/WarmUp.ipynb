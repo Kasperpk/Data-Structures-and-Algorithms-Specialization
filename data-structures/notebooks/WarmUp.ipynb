{
 "cells": [
  {
   "cell_type": "markdown",
   "id": "f500b818",
   "metadata": {},
   "source": [
    "## Warmup\n",
    "\n",
    "The idea is to warm up the \n",
    "\n",
    "* Simple assignments, using move instructions in the hardware\n",
    "* Arithmetic operations using the ALU\n",
    "* Branch capabilities\n",
    "* Procedures using call and and return commands"
   ]
  },
  {
   "cell_type": "code",
   "execution_count": 3,
   "id": "f8959ed4",
   "metadata": {},
   "outputs": [],
   "source": [
    "# simple assignments\n",
    "a = 5\n",
    "b = 10\n",
    "c = a"
   ]
  },
  {
   "cell_type": "code",
   "execution_count": 7,
   "id": "85befb26",
   "metadata": {},
   "outputs": [
    {
     "name": "stdout",
     "output_type": "stream",
     "text": [
      "10\n",
      "3.1622776601683795\n"
     ]
    }
   ],
   "source": [
    "# arithmetic\n",
    "import math\n",
    "d = c + a\n",
    "print(d)\n",
    "print(math.sqrt(d))"
   ]
  },
  {
   "cell_type": "code",
   "execution_count": null,
   "id": "c3e30f56",
   "metadata": {},
   "outputs": [
    {
     "name": "stdout",
     "output_type": "stream",
     "text": [
      "Found the color blue in list\n"
     ]
    }
   ],
   "source": [
    "# branching and control flow logic\n",
    "colors = ['blue', 'green', 'orange', 'purple']\n",
    "if 'blue' in colors:\n",
    "    print(\"Found the color blue in list\")\n",
    "else:\n",
    "    print(\"Didn't find the blue color in the list of colors\")"
   ]
  },
  {
   "cell_type": "code",
   "execution_count": null,
   "id": "d4a2bdd6",
   "metadata": {},
   "outputs": [],
   "source": [
    "def return_max_item_in_list(items_list):\n",
    "    for item in items_list:\n",
    "        if type(item) != int:\n",
    "            items_list.remove(item)\n",
    "    max = 0\n",
    "    for i in items_list:\n",
    "        if i > max:\n",
    "            max = i\n",
    "    \n",
    "    return max"
   ]
  },
  {
   "cell_type": "code",
   "execution_count": 24,
   "id": "dcb78255",
   "metadata": {},
   "outputs": [
    {
     "name": "stdout",
     "output_type": "stream",
     "text": [
      "5\n",
      "3\n",
      "6\n",
      "10\n",
      "cat\n",
      "cat\n",
      "[5, 3, 6, 10, 'seven']\n"
     ]
    },
    {
     "data": {
      "text/plain": [
       "0"
      ]
     },
     "execution_count": 24,
     "metadata": {},
     "output_type": "execute_result"
    }
   ],
   "source": [
    "return_max_item_in_list([5,3,6,10,'cat', 'seven'])"
   ]
  }
 ],
 "metadata": {
  "kernelspec": {
   "display_name": "Python 3",
   "language": "python",
   "name": "python3"
  },
  "language_info": {
   "codemirror_mode": {
    "name": "ipython",
    "version": 3
   },
   "file_extension": ".py",
   "mimetype": "text/x-python",
   "name": "python",
   "nbconvert_exporter": "python",
   "pygments_lexer": "ipython3",
   "version": "3.12.1"
  }
 },
 "nbformat": 4,
 "nbformat_minor": 5
}
