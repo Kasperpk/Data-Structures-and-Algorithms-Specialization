{
 "cells": [
  {
   "cell_type": "markdown",
   "id": "b8f63c8f",
   "metadata": {},
   "source": [
    "### Money change again\n",
    "Compute the minimum number of coins needed to change the given\n",
    "value into coins with denominations 1, 3, and 4.\n",
    "* Input: An integer money.\n",
    "* Output: The minimum number of coins with denominations 1, 3, and 4 that changes money."
   ]
  },
  {
   "cell_type": "code",
   "execution_count": 1,
   "id": "f3454280",
   "metadata": {},
   "outputs": [],
   "source": [
    "def MinCoins(amount, coins):\n",
    "\tdp_array = [amount + 1] * (amount + 1) # setting up DP array\n",
    "\tdp_array[0] = 0\n",
    "\tfor a in range(1, amount + 1):\n",
    "\t\tfor c in coins:\n",
    "\t\t\tif a - c >= 0:\n",
    "\t\t\t\tdp_array[a] = min(dp_array[a], 1 + dp_array[a-c])\n",
    "\treturn dp_array[amount] if dp_array[amount] != amount + 1 else -1"
   ]
  },
  {
   "cell_type": "markdown",
   "id": "1fdd8707",
   "metadata": {},
   "source": [
    "To get i = 5 we can get there in multiple ways \n",
    "\n",
    "from 4 → min_ops[4] + 1 = 2 + 1 = 3\n",
    "\n",
    "from 2 → min_ops[2] + 1 + 1 = 1 + 2 = 3\n",
    "\n",
    "from 3 → min_ops[3] + 1 + 1 = 1 + 2 = 3\n",
    "\n",
    "for i = 6 we can also get there in multiple ways \n",
    "\n",
    "from 5 → min_ops[5] + 1 = 3 + 1 = 4\n",
    "\n",
    "from 3 (*2) → min_ops[3] + 1 = 1 + 1 = 2\n",
    "\n",
    "from 2 (*3) → min_ops[2] + 1 = 1 + 1 = 2\n",
    "\n",
    "The pattern here is if i is divisble by 2 then typically multiplying by 2 is correct or of divisible by 3 then that is typically correct. "
   ]
  },
  {
   "cell_type": "code",
   "execution_count": 40,
   "id": "62ff1254",
   "metadata": {},
   "outputs": [],
   "source": [
    "def minimum_operations(n):\n",
    "\n",
    "    min_ops = [0] * (n+1)\n",
    "\n",
    "    if n <= 1:\n",
    "        return 0\n",
    "\n",
    "    for i in range(2, n + 1):\n",
    "\n",
    "        if i % 3 == 0:\n",
    "            min_ops[i] = round(i ** (1/3))\n",
    "        if i % 2 == 0:\n",
    "            min_ops[i] = round(math.sqrt(i))\n",
    "        else:\n",
    "            min_ops[i] = min_ops[i-1] + 1\n",
    "\n",
    "    return min_ops[n]\n",
    "    "
   ]
  },
  {
   "attachments": {
    "image-2.png": {
     "image/png": "[encoded data removed]"
    },
    "image-3.png": {
     "image/png": "[encoded data removed]"
    },
    "image.png": {
     "image/png": "[encoded data removed]"
    }
   },
   "cell_type": "markdown",
   "id": "6dbb093b",
   "metadata": {},
   "source": [
    "### Edit Distance\n",
    "\n",
    "Compute the edit distance between two strings.\n",
    "* Input: Two strings.\n",
    "* Output: The minimum number of single-symbol insertions,\n",
    "deletions, and substitutions to transform one string into the\n",
    "other one.\n",
    "\n",
    "![image.png](attachment:image.png)\n",
    "\n",
    "\n",
    "The edit distance problem is one that measures the distance between two strings by measuring the extend to which they can be *aligned* or matched up. Alignment is essentially writing the two strings above eachother. As shown here. \n",
    "\n",
    "![image-2.png](attachment:image-2.png)\n",
    "\n",
    "The alignment here with cost of three corresponds to inserting U, substituting N for O and deleting W. We turn to DP in order to find the best alignment since going through all of the solutions brute-force is very inefficient.\n",
    "\n",
    "**What are the subproblems?**\n",
    "\n",
    "One consideration is to look at the substring of each string E(i,j), where our final goal is to compute E(m,n). For example the alignment between x[1..i] and y[1..j] can be one of three things. \n",
    "\n",
    "![image-3.png](attachment:image-3.png)\n",
    "\n",
    "The first case costs 1 and inserts one on y[j-1] and we then need to still align x"
   ]
  },
  {
   "cell_type": "code",
   "execution_count": null,
   "id": "b05c03aa",
   "metadata": {},
   "outputs": [],
   "source": [
    "def edit_distance(s1, s2):\n",
    "    '''\n",
    "    Compute the edit distance between two strings.\n",
    "    The edit distance is the minimum number of operations required\n",
    "    to transform one string into the other. The allowed operations\n",
    "    are insertion, deletion, and substitution of characters.\n",
    "    '''\n",
    "    n = len(s1)\n",
    "    m = len(s2)\n",
    "    dp = [[0] * (m + 1) for _ in range(n + 1)]\n",
    "    \n",
    "    for i in range(n+1):\n",
    "        dp[i][0] = i\n",
    "\n",
    "    for j in range(m+1):\n",
    "        dp[0][j] = j\n",
    "    \n",
    "    for i in range(1, n + 1):\n",
    "        for j in range(1, m + 1):\n",
    "            if s1[i-1] == s2[j-1]:\n",
    "                dp[i][j] = dp[i-1][j-1]\n",
    "            else:\n",
    "                dp[i][j] = 1 + min(\n",
    "                    dp[i-1][j], # deletion\n",
    "                    dp[i][j-1], # insertion\n",
    "                    dp[i-1][j-1] #substitution\n",
    "                )\n",
    "    return dp[n][m]\n",
    "\n",
    "\n",
    "  "
   ]
  },
  {
   "cell_type": "markdown",
   "id": "3e7b4081",
   "metadata": {},
   "source": [
    "## longest common subsequence\n",
    "Compute the maximum length of a common subsequence of two\n",
    "sequences.\n",
    "* Input: Two sequences.\n",
    "* Output: The maximum length of a common subsequence."
   ]
  },
  {
   "cell_type": "code",
   "execution_count": 1,
   "id": "dc7d0565",
   "metadata": {},
   "outputs": [],
   "source": [
    "def longest_common_subsequence(s1, s2):\n",
    "\n",
    "    dp = [[0 for j in range(len(s2) + 1)] for i in range(len(s1) + 1)] # creating 2D grid of dimensions\n",
    "\n",
    "    for i in range(len(s1) - 1, -1, -1):\n",
    "        for j in range(len(s2) - 1, -1, -1):\n",
    "            if s1[i] == s2[j]:\n",
    "                dp[i][j] = 1 + dp[i + 1][j + 1] # first subproblem\n",
    "            else:\n",
    "                dp[i][j] = max(dp[i][j +1], dp[i + 1][j]) # second subproblem\n",
    "\n",
    "    return dp[0][0] "
   ]
  },
  {
   "cell_type": "markdown",
   "id": "b9bc6899",
   "metadata": {},
   "source": [
    "## longest common subsequence of three subsequences\n",
    "Compute the maximum length of a common subsequence of three\n",
    "sequences.\n",
    "* Input: Three sequences.\n",
    "* Output: The maximum length of a common subsequence."
   ]
  },
  {
   "cell_type": "code",
   "execution_count": 22,
   "id": "6f3709bd",
   "metadata": {},
   "outputs": [],
   "source": [
    "def longest_common_three_subsequence(s1, s2,s3):\n",
    "\n",
    "    dp = [[[0 for _ in range(len(s3) + 1)] \n",
    "              for _ in range(len(s2) + 1)] \n",
    "              for _ in range(len(s1) + 1)] # creating 2D grid of dimensions\n",
    "    \n",
    "    for i in range(len(s1) - 1, -1, -1):\n",
    "        for j in range(len(s2) - 1, -1, -1):\n",
    "            for k in range(len(s3) -1, -1, -1):\n",
    "                if s1[i] == s2[j] == s3[k]:\n",
    "                    dp[i][j][k] = 1 + dp[i + 1][j + 1][k + 1] # first subproblem\n",
    "                else:\n",
    "                    dp[i][j][k] = max(dp[i][j][k +1], dp[i][j+1][k], dp[i+1][j][k]) # second subproblem\n",
    "\n",
    "    return dp[0][0][0] "
   ]
  }
 ],
 "metadata": {
  "kernelspec": {
   "display_name": "Python 3",
   "language": "python",
   "name": "python3"
  },
  "language_info": {
   "codemirror_mode": {
    "name": "ipython",
    "version": 3
   },
   "file_extension": ".py",
   "mimetype": "text/x-python",
   "name": "python",
   "nbconvert_exporter": "python",
   "pygments_lexer": "ipython3",
   "version": "3.12.1"
  }
 },
 "nbformat": 4,
 "nbformat_minor": 5
}
